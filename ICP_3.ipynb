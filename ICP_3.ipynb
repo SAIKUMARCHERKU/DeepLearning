{
 "cells": [
  {
   "cell_type": "code",
   "execution_count": 30,
   "id": "124b0d1f",
   "metadata": {},
   "outputs": [
    {
     "name": "stdout",
     "output_type": "stream",
     "text": [
      "Full time employee's Details:\n",
      "Average salary: 132500.0\n",
      "Number of Employees :4\n"
     ]
    }
   ],
   "source": [
    "#Question_1\n",
    "\n",
    "'''\n",
    "1. Create a class Employee and then do the following\n",
    "• Create a data member to count the number of Employees\n",
    "• Create a constructor to initialize name, family, salary, department\n",
    "• Create a function to average salary\n",
    "• Create a Fulltime Employee class and it should inherit the properties of Employee class\n",
    "• Create the instances of Fulltime Employee class and Employee class and call their member functions.\n",
    "'''\n",
    "class Employee:\n",
    "    \n",
    "    #creating Employee class with name, family, salary and department\n",
    "    \n",
    "    count_of_employees = 0\n",
    "    # create a data member to count the number of Employees\n",
    "\n",
    "    def __init__(self, name, family, salary, department): #constructor which exucutes without creating an object\n",
    "        self.__name = name\n",
    "        self.__family = family\n",
    "        self.salary = salary\n",
    "        self.__department = department\n",
    "        Employee.count_of_employees += 1\n",
    "\n",
    "    @staticmethod \n",
    "    def avg_salary(employees):  \n",
    "        #create a function to calculate average salary \n",
    "        sum = 0\n",
    "        for employee in employees:\n",
    "            sum += employee.salary\n",
    "        return sum / Employee.count_of_employees\n",
    "\n",
    "class FulltimeEmployee(Employee):\n",
    "    \n",
    "    #FullTimeEmployee is a sub class of Employee\n",
    "    def __init__(self, name, family, salary, department):\n",
    "        super().__init__(name, family, salary, department)\n",
    "\n",
    "    def full_time_benefits(self):\n",
    "        print(\"Full time employee's Details:\")\n",
    "\n",
    "\n",
    "def main():\n",
    "    employees = []\n",
    "    fulltimeemp1 = FulltimeEmployee(\"Saikumar\", \"Fam_1\", 160000, \"Human Resources\")\n",
    "    fulltimeemp1.full_time_benefits()\n",
    "    employees.append(fulltimeemp1)\n",
    "    fulltimeemp2 = FulltimeEmployee(\"Bhanu\", \"Fam_2\", 120000, \"Bigdata Team\")\n",
    "    employees.append(fulltimeemp2)\n",
    "    e1 = Employee(\"Vijay\", \"Fam_3\", 110000, \"Tech support\")\n",
    "    employees.append(e1)\n",
    "    e2 = Employee(\"Rohit\", \"Fam_4\", 140000, \"Marketing\")\n",
    "    employees.append(e2)\n",
    "    print(\"Average salary:\", FulltimeEmployee.avg_salary(employees))\n",
    "    print(\"Number of Employees :\" + str(Employee.count_of_employees))\n",
    "\n",
    "\n",
    "if __name__ == \"__main__\":\n",
    "    main()"
   ]
  },
  {
   "cell_type": "code",
   "execution_count": 28,
   "id": "8ba6eb55",
   "metadata": {},
   "outputs": [
    {
     "name": "stdout",
     "output_type": "stream",
     "text": [
      "Original array:\n",
      "[16.27956865 15.13633467 17.11726107 16.63836645  3.65197369 11.60647682\n",
      " 17.25282948  9.69741508 16.29864056  5.67996759 19.16550289 16.70689469\n",
      "  4.19467284 15.94476009  7.94267329  8.36928257  9.77708566  9.56503236\n",
      "  9.54451656  5.11127025]\n",
      "[[16.27956865 15.13633467 17.11726107 16.63836645  3.65197369]\n",
      " [11.60647682 17.25282948  9.69741508 16.29864056  5.67996759]\n",
      " [19.16550289 16.70689469  4.19467284 15.94476009  7.94267329]\n",
      " [ 8.36928257  9.77708566  9.56503236  9.54451656  5.11127025]]\n",
      "(4, 5)\n",
      "Maximum value of each row replaced by 0:\n",
      "[[16.27956865 15.13633467  0.         16.63836645  3.65197369]\n",
      " [11.60647682  0.          9.69741508 16.29864056  5.67996759]\n",
      " [ 0.         16.70689469  4.19467284 15.94476009  7.94267329]\n",
      " [ 8.36928257  0.          9.56503236  9.54451656  5.11127025]]\n"
     ]
    }
   ],
   "source": [
    "#Question_2\n",
    "\n",
    "'''\n",
    "2. Using NumPy create random vector of size 20 having only float in the range 1-20.\n",
    "Then reshape the array to 4 by 5\n",
    "Then replace the max in each row by 0 (axis=1)\n",
    "(you can NOT implement it via for loop)\n",
    "'''\n",
    "\n",
    "import numpy as np\n",
    "rand = np.random.uniform(1,20,20) #creating random vector of size 20 which is having only float in the range 1-20.\n",
    "print(\"Original array:\")\n",
    "print(rand)\n",
    "rand=np.reshape(rand,(4,5),order='c') #Reshape the array to 4 by 5 order\n",
    "print(rand)\n",
    "print(np.shape(rand)) #Displays array shape\n",
    "maxNum = np.amax(rand, axis=1)\n",
    "rand=np.where(np.isin(rand,maxNum), 0, rand) #Replace's the max in each row by '0'.\n",
    "print(\"Maximum value of each row replaced by 0:\")\n",
    "print(rand)"
   ]
  },
  {
   "cell_type": "code",
   "execution_count": null,
   "id": "92b4d633",
   "metadata": {},
   "outputs": [],
   "source": []
  }
 ],
 "metadata": {
  "kernelspec": {
   "display_name": "Python 3 (ipykernel)",
   "language": "python",
   "name": "python3"
  },
  "language_info": {
   "codemirror_mode": {
    "name": "ipython",
    "version": 3
   },
   "file_extension": ".py",
   "mimetype": "text/x-python",
   "name": "python",
   "nbconvert_exporter": "python",
   "pygments_lexer": "ipython3",
   "version": "3.9.13"
  }
 },
 "nbformat": 4,
 "nbformat_minor": 5
}
