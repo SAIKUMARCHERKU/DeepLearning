{
 "cells": [
  {
   "cell_type": "code",
   "execution_count": 12,
   "id": "4028e50e",
   "metadata": {},
   "outputs": [
    {
     "name": "stdout",
     "output_type": "stream",
     "text": [
      "Python\n",
      "ntyP\n"
     ]
    }
   ],
   "source": [
    "s=input()\n",
    "flist=list(s)\n",
    "flist.pop(4)\n",
    "#pop() method removes the element at the specified position. If we not specified anything it eliminates last item in the list.\n",
    "flist.pop(3)\n",
    "r=flist[::-1]\n",
    "#it reverse the elements in the list\n",
    "x=''\n",
    "for i in r:\n",
    "    x=x+i\n",
    "print(x)"
   ]
  },
  {
   "cell_type": "code",
   "execution_count": 6,
   "id": "45ed1a39",
   "metadata": {},
   "outputs": [
    {
     "name": "stdout",
     "output_type": "stream",
     "text": [
      "5\n",
      "3\n",
      "a+b = 5 + 3 = 8\n",
      "a-b = 5 - 3 = 2\n",
      "a*b = 5 * 3 = 15\n",
      "a/b = 5 / 3 = 1.6666666666666667\n"
     ]
    }
   ],
   "source": [
    "a=int(input())\n",
    "b=int(input())\n",
    "print(\"a+b =\",a,\"+\",b,\"=\",a+b)\n",
    "print(\"a-b =\",a,\"-\",b,\"=\",a-b)\n",
    "print(\"a*b =\",a,\"*\",b,\"=\",a*b)\n",
    "print(\"a/b =\",a,\"/\",b,\"=\",a/b)\n"
   ]
  },
  {
   "cell_type": "code",
   "execution_count": 7,
   "id": "49bacb66",
   "metadata": {},
   "outputs": [
    {
     "name": "stdout",
     "output_type": "stream",
     "text": [
      "I love playing with python\n",
      "I love playing with pythons\n"
     ]
    }
   ],
   "source": [
    "s=input()\n",
    "x=s.replace(\"python\",\"pythons\")\n",
    "#the replace() method replaces a specified phrase with another specified phrase\n",
    "print(x)"
   ]
  },
  {
   "cell_type": "code",
   "execution_count": 7,
   "id": "bf7c5e5d",
   "metadata": {},
   "outputs": [
    {
     "name": "stdout",
     "output_type": "stream",
     "text": [
      "92\n",
      "A\n"
     ]
    }
   ],
   "source": [
    "score=int(input())\n",
    "if score>100:\n",
    "    print(\"Score must be lessthan or equal to 100\")\n",
    "elif 100>=score>=90:\n",
    "    print(\"A\")\n",
    "elif 89>=score>=80:\n",
    "    print(\"B\")\n",
    "elif 79>=score>=70:\n",
    "    print(\"C\")\n",
    "elif 69>=score>=60:\n",
    "    print(\"D\")\n",
    "else:\n",
    "    print(\"F\")"
   ]
  },
  {
   "cell_type": "code",
   "execution_count": null,
   "id": "38a77b17",
   "metadata": {},
   "outputs": [],
   "source": []
  },
  {
   "cell_type": "code",
   "execution_count": null,
   "id": "d9c693c8",
   "metadata": {},
   "outputs": [],
   "source": []
  }
 ],
 "metadata": {
  "kernelspec": {
   "display_name": "Python 3 (ipykernel)",
   "language": "python",
   "name": "python3"
  },
  "language_info": {
   "codemirror_mode": {
    "name": "ipython",
    "version": 3
   },
   "file_extension": ".py",
   "mimetype": "text/x-python",
   "name": "python",
   "nbconvert_exporter": "python",
   "pygments_lexer": "ipython3",
   "version": "3.9.13"
  }
 },
 "nbformat": 4,
 "nbformat_minor": 5
}
