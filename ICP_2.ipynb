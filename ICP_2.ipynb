{
 "cells": [
  {
   "cell_type": "code",
   "execution_count": 23,
   "id": "c0686386",
   "metadata": {},
   "outputs": [
    {
     "name": "stdout",
     "output_type": "stream",
     "text": [
      "Enter First Name : Saikumar\n",
      "Enter Last Name : Cherku\n"
     ]
    },
    {
     "data": {
      "text/plain": [
       "'Saikumar Cherku'"
      ]
     },
     "execution_count": 23,
     "metadata": {},
     "output_type": "execute_result"
    }
   ],
   "source": [
    "fname= input(\"Enter First Name : \")\n",
    "#Asks user to enter first name\n",
    "lname= input(\"Enter Last Name : \")\n",
    "#Asks user to enter last name\n",
    "def full_name(fname,lname):\n",
    " #creating a function with arguments as firstname and lastname\n",
    "    return fname +\" \"+lname\n",
    " #returns the concatinated fname,lname \n",
    "full_name(fname,lname)"
   ]
  },
  {
   "cell_type": "code",
   "execution_count": 24,
   "id": "0079a090",
   "metadata": {},
   "outputs": [
    {
     "name": "stdout",
     "output_type": "stream",
     "text": [
      "String:  Saikumar Cherku\n",
      "Output :  Siua hru\n"
     ]
    }
   ],
   "source": [
    "def string_alternative(full_name):\n",
    "#creating a function string_alternative\n",
    "    str = \"\"\n",
    "    #create a variable string\n",
    "    for index in range(0,len(full_name),2):\n",
    "        str+=full_name[index]        \n",
    "    return str               \n",
    "print(\"String: \",full_name(fname,lname))\n",
    "#Displays the fullname using function\n",
    "\n",
    "print(\"Output : \",string_alternative(full_name(fname,lname)))\n",
    "\n",
    "#Displays the output"
   ]
  },
  {
   "cell_type": "code",
   "execution_count": 19,
   "id": "e8051a6c",
   "metadata": {},
   "outputs": [
    {
     "name": "stdout",
     "output_type": "stream",
     "text": [
      "Python Course\n",
      "Deep Learning Course\n",
      "Word_Count:\n",
      "Python: 1\n",
      "Course: 2\n",
      "Deep: 1\n",
      "Learning: 1\n"
     ]
    }
   ],
   "source": [
    "count = {}\n",
    "with open('input.txt', 'r') as f:\n",
    "    lines = [line.rstrip() for line in f]  \n",
    "    # read lines from input\n",
    "\n",
    "for line in lines:\n",
    "    print(line)  \n",
    "    # prints each line\n",
    "    words = line.split()  \n",
    "    # It split the line to get words\n",
    "    for word in words:  \n",
    "        # loop for each word\n",
    "        if word in count:  \n",
    "            # it checks  if the word already present\n",
    "            count[word] += 1  \n",
    "            # It increases count\n",
    "        else:\n",
    "            # else insert the word\n",
    "            count[word] = 1  \n",
    "            \n",
    "\n",
    "print('Word_Count:')  \n",
    "# print word counts\n",
    "for key, value in count.items():\n",
    "    print(f'{key}: {value}')"
   ]
  },
  {
   "cell_type": "code",
   "execution_count": 20,
   "id": "9ed62593",
   "metadata": {},
   "outputs": [
    {
     "name": "stdout",
     "output_type": "stream",
     "text": [
      "Enter Customer Heights : 150 155 145 148\n",
      "output :  [381.0, 393.7, 368.3, 375.92]\n"
     ]
    }
   ],
   "source": [
    "l1 = input(\"Enter Customer Heights : \")\n",
    "#reads heights of the customers in inches\n",
    "\n",
    "def incToCent(value):\n",
    "    #creating a new function to convert inches to centimeters\n",
    "    return value*2.54\n",
    "    #returns the converted value\n",
    "heights_inch = l1.split()\n",
    " # It split the list to get heights\n",
    "\n",
    "l2 = []\n",
    "#creating a new list\n",
    "\n",
    "for x in heights_inch:\n",
    "    value = int(x)\n",
    "    l2.append(incToCent(value))\n",
    "    #appends the values to list l2\n",
    "    \n",
    "print(\"output : \",l2)\n",
    "#Displays output"
   ]
  },
  {
   "cell_type": "code",
   "execution_count": null,
   "id": "0cf13fb2",
   "metadata": {},
   "outputs": [],
   "source": []
  }
 ],
 "metadata": {
  "kernelspec": {
   "display_name": "Python 3 (ipykernel)",
   "language": "python",
   "name": "python3"
  },
  "language_info": {
   "codemirror_mode": {
    "name": "ipython",
    "version": 3
   },
   "file_extension": ".py",
   "mimetype": "text/x-python",
   "name": "python",
   "nbconvert_exporter": "python",
   "pygments_lexer": "ipython3",
   "version": "3.9.13"
  }
 },
 "nbformat": 4,
 "nbformat_minor": 5
}
